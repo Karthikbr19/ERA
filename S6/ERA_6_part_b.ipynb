{
  "nbformat": 4,
  "nbformat_minor": 0,
  "metadata": {
    "colab": {
      "provenance": []
    },
    "kernelspec": {
      "name": "python3",
      "display_name": "Python 3"
    },
    "accelerator": "GPU"
  },
  "cells": [
    {
      "cell_type": "code",
      "metadata": {
        "id": "0m2JWFliFfKT"
      },
      "source": [
        "from __future__ import print_function\n",
        "import torch\n",
        "import torch.nn as nn\n",
        "import torch.nn.functional as F\n",
        "import torch.optim as optim\n",
        "from torchvision import datasets, transforms"
      ],
      "execution_count": 1,
      "outputs": []
    },
    {
      "cell_type": "code",
      "metadata": {
        "id": "h_Cx9q2QFgM7"
      },
      "source": [
        "class Net(nn.Module):\n",
        "    def __init__(self):\n",
        "        super(Net, self).__init__()\n",
        "        # Input: 28x28x1 | Output: 26x26x16 | RF: 3x3\n",
        "        self.conv1 = nn.Conv2d(1, 16, 3)  \n",
        "        self.norm1 = nn.BatchNorm2d(16)\n",
        "        self.dropout1 = nn.Dropout(0.15)\n",
        "        # Input: 26x26x16 | Output: 24x24x16 | RF: 5x5\n",
        "        self.conv2 = nn.Conv2d(16, 16, 3)  \n",
        "        self.norm2 = nn.BatchNorm2d(16)\n",
        "        self.dropout2 = nn.Dropout(0.15)\n",
        "        # Input: 24x24x16 | Output: 22x22x32 | RF: 7x7\n",
        "        self.conv3 = nn.Conv2d(16, 16, 3)  \n",
        "        self.norm3 = nn.BatchNorm2d(16)\n",
        "        # Input: 22x22x32 | Output: 11x11x32 | RF: 14x14\n",
        "        self.pool = nn.MaxPool2d(2, 2)  \n",
        "        # Input: 9x9x16 | Output: 7x7x16 | RF: 18x18\n",
        "        self.conv4 = nn.Conv2d(16, 16, 3)  \n",
        "        self.norm4 = nn.BatchNorm2d(16)\n",
        "        self.dropout4 = nn.Dropout(0.15)\n",
        "        # Input: 7x7x16 | Output: 5x5x16 | RF: 20x20\n",
        "        self.conv5 = nn.Conv2d(16, 16, 3)  \n",
        "        self.norm5 = nn.BatchNorm2d(16)\n",
        "        self.dropout5 = nn.Dropout(0.15)\n",
        "        # Input: 5x5x16 | Output: 3x3x10 | RF: 22x22\n",
        "        self.conv6 = nn.Conv2d(16, 10, 3)  \n",
        "        # Input: 3x3x10 | Output: 1x1x10\n",
        "        self.gap = nn.AdaptiveAvgPool2d(1)  \n",
        "    \n",
        "    def forward(self, x):\n",
        "        net = self.dropout1(self.norm1(F.relu(self.conv1(x))))\n",
        "        net = self.dropout2(self.norm2(F.relu(self.conv2(net))))\n",
        "        net = self.pool(self.norm3(F.relu(self.conv3(net))))\n",
        "        net = self.dropout4(self.norm4(F.relu(self.conv4(net))))\n",
        "        net = self.dropout5(self.norm5(F.relu(self.conv5(net))))\n",
        "        net = F.relu(self.conv6(net))\n",
        "        net = self.gap(net)\n",
        "        net = net.view(-1, 10)\n",
        "        return F.log_softmax(net)"
      ],
      "execution_count": 2,
      "outputs": []
    },
    {
      "cell_type": "code",
      "metadata": {
        "id": "xdydjYTZFyi3",
        "colab": {
          "base_uri": "https://localhost:8080/"
        },
        "outputId": "06f6e590-1c35-4f3b-8b45-2558fe265b23"
      },
      "source": [
        "!pip install torchsummary\n",
        "from torchsummary import summary\n",
        "use_cuda = torch.cuda.is_available()\n",
        "device = torch.device(\"cuda\" if use_cuda else \"cpu\")\n",
        "model = Net().to(device)\n",
        "summary(model, input_size=(1, 28, 28))"
      ],
      "execution_count": 3,
      "outputs": [
        {
          "output_type": "stream",
          "name": "stdout",
          "text": [
            "Looking in indexes: https://pypi.org/simple, https://us-python.pkg.dev/colab-wheels/public/simple/\n",
            "Requirement already satisfied: torchsummary in /usr/local/lib/python3.10/dist-packages (1.5.1)\n",
            "----------------------------------------------------------------\n",
            "        Layer (type)               Output Shape         Param #\n",
            "================================================================\n",
            "            Conv2d-1           [-1, 16, 26, 26]             160\n",
            "       BatchNorm2d-2           [-1, 16, 26, 26]              32\n",
            "           Dropout-3           [-1, 16, 26, 26]               0\n",
            "            Conv2d-4           [-1, 16, 24, 24]           2,320\n",
            "       BatchNorm2d-5           [-1, 16, 24, 24]              32\n",
            "           Dropout-6           [-1, 16, 24, 24]               0\n",
            "            Conv2d-7           [-1, 16, 22, 22]           2,320\n",
            "       BatchNorm2d-8           [-1, 16, 22, 22]              32\n",
            "         MaxPool2d-9           [-1, 16, 11, 11]               0\n",
            "           Conv2d-10             [-1, 16, 9, 9]           2,320\n",
            "      BatchNorm2d-11             [-1, 16, 9, 9]              32\n",
            "          Dropout-12             [-1, 16, 9, 9]               0\n",
            "           Conv2d-13             [-1, 16, 7, 7]           2,320\n",
            "      BatchNorm2d-14             [-1, 16, 7, 7]              32\n",
            "          Dropout-15             [-1, 16, 7, 7]               0\n",
            "           Conv2d-16             [-1, 10, 5, 5]           1,450\n",
            "AdaptiveAvgPool2d-17             [-1, 10, 1, 1]               0\n",
            "================================================================\n",
            "Total params: 11,050\n",
            "Trainable params: 11,050\n",
            "Non-trainable params: 0\n",
            "----------------------------------------------------------------\n",
            "Input size (MB): 0.00\n",
            "Forward/backward pass size (MB): 0.64\n",
            "Params size (MB): 0.04\n",
            "Estimated Total Size (MB): 0.69\n",
            "----------------------------------------------------------------\n"
          ]
        },
        {
          "output_type": "stream",
          "name": "stderr",
          "text": [
            "<ipython-input-2-e82347c8f588>:39: UserWarning: Implicit dimension choice for log_softmax has been deprecated. Change the call to include dim=X as an argument.\n",
            "  return F.log_softmax(net)\n"
          ]
        }
      ]
    },
    {
      "cell_type": "code",
      "metadata": {
        "id": "DqTWLaM5GHgH"
      },
      "source": [
        "\n",
        "\n",
        "torch.manual_seed(1)\n",
        "batch_size = 32\n",
        "\n",
        "kwargs = {'num_workers': 1, 'pin_memory': True} if use_cuda else {}\n",
        "train_loader = torch.utils.data.DataLoader(\n",
        "    datasets.MNIST('../data', train=True, download=True,\n",
        "                    transform=transforms.Compose([\n",
        "                        transforms.ToTensor(),\n",
        "                        transforms.Normalize((0.1307,), (0.3081,))\n",
        "                    ])),\n",
        "    batch_size=batch_size, shuffle=True, **kwargs)\n",
        "test_loader = torch.utils.data.DataLoader(\n",
        "    datasets.MNIST('../data', train=False, transform=transforms.Compose([\n",
        "                        transforms.ToTensor(),\n",
        "                        transforms.Normalize((0.1307,), (0.3081,))\n",
        "                    ])),\n",
        "    batch_size=batch_size, shuffle=True, **kwargs)\n"
      ],
      "execution_count": 4,
      "outputs": []
    },
    {
      "cell_type": "code",
      "metadata": {
        "id": "8fDefDhaFlwH"
      },
      "source": [
        "from tqdm import tqdm\n",
        "def train(model, device, train_loader, optimizer, epoch):\n",
        "    model.train()\n",
        "    pbar = tqdm(train_loader)\n",
        "    for batch_idx, (data, target) in enumerate(pbar):\n",
        "        data, target = data.to(device), target.to(device)\n",
        "        optimizer.zero_grad()\n",
        "        output = model(data)\n",
        "        loss = F.nll_loss(output, target)\n",
        "        loss.backward()\n",
        "        optimizer.step()\n",
        "        pbar.set_description(desc= f'loss={loss.item()} batch_id={batch_idx}')\n",
        "\n",
        "\n",
        "def test(model, device, test_loader):\n",
        "    model.eval()\n",
        "    test_loss = 0\n",
        "    correct = 0\n",
        "    with torch.no_grad():\n",
        "        for data, target in test_loader:\n",
        "            data, target = data.to(device), target.to(device)\n",
        "            output = model(data)\n",
        "            test_loss += F.nll_loss(output, target, reduction='sum').item()  # sum up batch loss\n",
        "            pred = output.argmax(dim=1, keepdim=True)  # get the index of the max log-probability\n",
        "            correct += pred.eq(target.view_as(pred)).sum().item()\n",
        "\n",
        "    test_loss /= len(test_loader.dataset)\n",
        "\n",
        "    print('\\nTest set: Average loss: {:.4f}, Accuracy: {}/{} ({:.2f}%)\\n'.format(\n",
        "        test_loss, correct, len(test_loader.dataset),\n",
        "        100. * correct / len(test_loader.dataset)))"
      ],
      "execution_count": 5,
      "outputs": []
    },
    {
      "cell_type": "code",
      "metadata": {
        "id": "MMWbLWO6FuHb",
        "colab": {
          "base_uri": "https://localhost:8080/"
        },
        "outputId": "e4842211-bd54-49ea-e6c5-f612417e3570"
      },
      "source": [
        "\n",
        "model = Net().to(device)\n",
        "optimizer = optim.SGD(model.parameters(), lr=0.01, momentum=0.9)\n",
        "print(f'\\n')\n",
        "for epoch in range(1,20):\n",
        "    print(f'Epoch -------------------- {epoch}:')\n",
        "    train(model, device, train_loader, optimizer, epoch)\n",
        "    test(model, device, test_loader)\n",
        "    print(f'\\n\\n')"
      ],
      "execution_count": 6,
      "outputs": [
        {
          "output_type": "stream",
          "name": "stdout",
          "text": [
            "\n",
            "\n",
            "Epoch -------------------- 1:\n"
          ]
        },
        {
          "output_type": "stream",
          "name": "stderr",
          "text": [
            "\r  0%|          | 0/1875 [00:00<?, ?it/s]<ipython-input-2-e82347c8f588>:39: UserWarning: Implicit dimension choice for log_softmax has been deprecated. Change the call to include dim=X as an argument.\n",
            "  return F.log_softmax(net)\n",
            "loss=0.09150125831365585 batch_id=1874: 100%|██████████| 1875/1875 [00:35<00:00, 52.25it/s]\n"
          ]
        },
        {
          "output_type": "stream",
          "name": "stdout",
          "text": [
            "\n",
            "Test set: Average loss: 0.0612, Accuracy: 9812/10000 (98.12%)\n",
            "\n",
            "\n",
            "\n",
            "\n",
            "Epoch -------------------- 2:\n"
          ]
        },
        {
          "output_type": "stream",
          "name": "stderr",
          "text": [
            "loss=0.012672199867665768 batch_id=1874: 100%|██████████| 1875/1875 [00:30<00:00, 60.78it/s]\n"
          ]
        },
        {
          "output_type": "stream",
          "name": "stdout",
          "text": [
            "\n",
            "Test set: Average loss: 0.0375, Accuracy: 9890/10000 (98.90%)\n",
            "\n",
            "\n",
            "\n",
            "\n",
            "Epoch -------------------- 3:\n"
          ]
        },
        {
          "output_type": "stream",
          "name": "stderr",
          "text": [
            "loss=0.07435578107833862 batch_id=1874: 100%|██████████| 1875/1875 [00:30<00:00, 61.90it/s]\n"
          ]
        },
        {
          "output_type": "stream",
          "name": "stdout",
          "text": [
            "\n",
            "Test set: Average loss: 0.0286, Accuracy: 9914/10000 (99.14%)\n",
            "\n",
            "\n",
            "\n",
            "\n",
            "Epoch -------------------- 4:\n"
          ]
        },
        {
          "output_type": "stream",
          "name": "stderr",
          "text": [
            "loss=0.02075030468404293 batch_id=1874: 100%|██████████| 1875/1875 [00:32<00:00, 58.55it/s]\n"
          ]
        },
        {
          "output_type": "stream",
          "name": "stdout",
          "text": [
            "\n",
            "Test set: Average loss: 0.0295, Accuracy: 9913/10000 (99.13%)\n",
            "\n",
            "\n",
            "\n",
            "\n",
            "Epoch -------------------- 5:\n"
          ]
        },
        {
          "output_type": "stream",
          "name": "stderr",
          "text": [
            "loss=0.05868550390005112 batch_id=1874: 100%|██████████| 1875/1875 [00:31<00:00, 60.34it/s]\n"
          ]
        },
        {
          "output_type": "stream",
          "name": "stdout",
          "text": [
            "\n",
            "Test set: Average loss: 0.0229, Accuracy: 9923/10000 (99.23%)\n",
            "\n",
            "\n",
            "\n",
            "\n",
            "Epoch -------------------- 6:\n"
          ]
        },
        {
          "output_type": "stream",
          "name": "stderr",
          "text": [
            "loss=0.0016380238812416792 batch_id=1874: 100%|██████████| 1875/1875 [00:30<00:00, 61.23it/s]\n"
          ]
        },
        {
          "output_type": "stream",
          "name": "stdout",
          "text": [
            "\n",
            "Test set: Average loss: 0.0239, Accuracy: 9926/10000 (99.26%)\n",
            "\n",
            "\n",
            "\n",
            "\n",
            "Epoch -------------------- 7:\n"
          ]
        },
        {
          "output_type": "stream",
          "name": "stderr",
          "text": [
            "loss=0.05243135243654251 batch_id=1874: 100%|██████████| 1875/1875 [00:30<00:00, 60.99it/s]\n"
          ]
        },
        {
          "output_type": "stream",
          "name": "stdout",
          "text": [
            "\n",
            "Test set: Average loss: 0.0246, Accuracy: 9924/10000 (99.24%)\n",
            "\n",
            "\n",
            "\n",
            "\n",
            "Epoch -------------------- 8:\n"
          ]
        },
        {
          "output_type": "stream",
          "name": "stderr",
          "text": [
            "loss=0.06924242526292801 batch_id=1874: 100%|██████████| 1875/1875 [00:31<00:00, 59.48it/s]\n"
          ]
        },
        {
          "output_type": "stream",
          "name": "stdout",
          "text": [
            "\n",
            "Test set: Average loss: 0.0251, Accuracy: 9930/10000 (99.30%)\n",
            "\n",
            "\n",
            "\n",
            "\n",
            "Epoch -------------------- 9:\n"
          ]
        },
        {
          "output_type": "stream",
          "name": "stderr",
          "text": [
            "loss=0.011284716427326202 batch_id=1874: 100%|██████████| 1875/1875 [00:30<00:00, 60.76it/s]\n"
          ]
        },
        {
          "output_type": "stream",
          "name": "stdout",
          "text": [
            "\n",
            "Test set: Average loss: 0.0234, Accuracy: 9925/10000 (99.25%)\n",
            "\n",
            "\n",
            "\n",
            "\n",
            "Epoch -------------------- 10:\n"
          ]
        },
        {
          "output_type": "stream",
          "name": "stderr",
          "text": [
            "loss=0.03688228502869606 batch_id=1874: 100%|██████████| 1875/1875 [00:30<00:00, 60.51it/s]\n"
          ]
        },
        {
          "output_type": "stream",
          "name": "stdout",
          "text": [
            "\n",
            "Test set: Average loss: 0.0221, Accuracy: 9933/10000 (99.33%)\n",
            "\n",
            "\n",
            "\n",
            "\n",
            "Epoch -------------------- 11:\n"
          ]
        },
        {
          "output_type": "stream",
          "name": "stderr",
          "text": [
            "loss=0.04283483326435089 batch_id=1874: 100%|██████████| 1875/1875 [00:32<00:00, 57.55it/s]\n"
          ]
        },
        {
          "output_type": "stream",
          "name": "stdout",
          "text": [
            "\n",
            "Test set: Average loss: 0.0231, Accuracy: 9929/10000 (99.29%)\n",
            "\n",
            "\n",
            "\n",
            "\n",
            "Epoch -------------------- 12:\n"
          ]
        },
        {
          "output_type": "stream",
          "name": "stderr",
          "text": [
            "loss=0.022571180015802383 batch_id=1874: 100%|██████████| 1875/1875 [00:32<00:00, 57.46it/s]\n"
          ]
        },
        {
          "output_type": "stream",
          "name": "stdout",
          "text": [
            "\n",
            "Test set: Average loss: 0.0224, Accuracy: 9933/10000 (99.33%)\n",
            "\n",
            "\n",
            "\n",
            "\n",
            "Epoch -------------------- 13:\n"
          ]
        },
        {
          "output_type": "stream",
          "name": "stderr",
          "text": [
            "loss=0.005145586561411619 batch_id=1874: 100%|██████████| 1875/1875 [00:31<00:00, 59.23it/s]\n"
          ]
        },
        {
          "output_type": "stream",
          "name": "stdout",
          "text": [
            "\n",
            "Test set: Average loss: 0.0207, Accuracy: 9931/10000 (99.31%)\n",
            "\n",
            "\n",
            "\n",
            "\n",
            "Epoch -------------------- 14:\n"
          ]
        },
        {
          "output_type": "stream",
          "name": "stderr",
          "text": [
            "loss=0.0007739957072772086 batch_id=1874: 100%|██████████| 1875/1875 [00:31<00:00, 59.51it/s]\n"
          ]
        },
        {
          "output_type": "stream",
          "name": "stdout",
          "text": [
            "\n",
            "Test set: Average loss: 0.0205, Accuracy: 9939/10000 (99.39%)\n",
            "\n",
            "\n",
            "\n",
            "\n",
            "Epoch -------------------- 15:\n"
          ]
        },
        {
          "output_type": "stream",
          "name": "stderr",
          "text": [
            "loss=0.008135675452649593 batch_id=1874: 100%|██████████| 1875/1875 [00:32<00:00, 58.39it/s]\n"
          ]
        },
        {
          "output_type": "stream",
          "name": "stdout",
          "text": [
            "\n",
            "Test set: Average loss: 0.0211, Accuracy: 9933/10000 (99.33%)\n",
            "\n",
            "\n",
            "\n",
            "\n",
            "Epoch -------------------- 16:\n"
          ]
        },
        {
          "output_type": "stream",
          "name": "stderr",
          "text": [
            "loss=0.002823110669851303 batch_id=1874: 100%|██████████| 1875/1875 [00:31<00:00, 59.63it/s]\n"
          ]
        },
        {
          "output_type": "stream",
          "name": "stdout",
          "text": [
            "\n",
            "Test set: Average loss: 0.0207, Accuracy: 9935/10000 (99.35%)\n",
            "\n",
            "\n",
            "\n",
            "\n",
            "Epoch -------------------- 17:\n"
          ]
        },
        {
          "output_type": "stream",
          "name": "stderr",
          "text": [
            "loss=0.007121978793293238 batch_id=1874: 100%|██████████| 1875/1875 [00:31<00:00, 59.42it/s]\n"
          ]
        },
        {
          "output_type": "stream",
          "name": "stdout",
          "text": [
            "\n",
            "Test set: Average loss: 0.0209, Accuracy: 9937/10000 (99.37%)\n",
            "\n",
            "\n",
            "\n",
            "\n",
            "Epoch -------------------- 18:\n"
          ]
        },
        {
          "output_type": "stream",
          "name": "stderr",
          "text": [
            "loss=0.004234672524034977 batch_id=1874: 100%|██████████| 1875/1875 [00:31<00:00, 59.09it/s]\n"
          ]
        },
        {
          "output_type": "stream",
          "name": "stdout",
          "text": [
            "\n",
            "Test set: Average loss: 0.0215, Accuracy: 9936/10000 (99.36%)\n",
            "\n",
            "\n",
            "\n",
            "\n",
            "Epoch -------------------- 19:\n"
          ]
        },
        {
          "output_type": "stream",
          "name": "stderr",
          "text": [
            "loss=0.008860548958182335 batch_id=1874: 100%|██████████| 1875/1875 [00:31<00:00, 58.89it/s]\n"
          ]
        },
        {
          "output_type": "stream",
          "name": "stdout",
          "text": [
            "\n",
            "Test set: Average loss: 0.0210, Accuracy: 9931/10000 (99.31%)\n",
            "\n",
            "\n",
            "\n",
            "\n"
          ]
        }
      ]
    },
    {
      "cell_type": "code",
      "metadata": {
        "id": "So5uk4EkHW6R"
      },
      "source": [],
      "execution_count": 6,
      "outputs": []
    },
    {
      "cell_type": "code",
      "source": [],
      "metadata": {
        "id": "Aib3jabVouw-"
      },
      "execution_count": 6,
      "outputs": []
    },
    {
      "cell_type": "code",
      "source": [],
      "metadata": {
        "id": "6OS07zlbovDt"
      },
      "execution_count": 6,
      "outputs": []
    },
    {
      "cell_type": "code",
      "source": [],
      "metadata": {
        "id": "6X4VmjLyovGu"
      },
      "execution_count": 6,
      "outputs": []
    }
  ]
}